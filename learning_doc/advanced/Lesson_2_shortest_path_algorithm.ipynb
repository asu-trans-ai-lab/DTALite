{
 "cells": [
  {
   "cell_type": "code",
   "execution_count": 5,
   "metadata": {},
   "outputs": [],
   "source": [
    "# _*_coding:utf-8 _*_\n",
    "# @Time　　:2020/2/29/21:32\n",
    "# @Author　 : Space-time network research group\n",
    "#Contact Simon Xuesong Zhou at xzhou74@asu.edu \n",
    "#@ File　　  :generic label correcting algorithm.py\n",
    "#@Software  :PyCharm\n",
    "\n",
    "\"\"\"import package\"\"\"\n",
    "import pandas as pd\n",
    "import numpy as np\n",
    "import copy"
   ]
  },
  {
   "cell_type": "code",
   "execution_count": 6,
   "metadata": {},
   "outputs": [
    {
     "name": "stdout",
     "output_type": "stream",
     "text": [
      "Set of node:  [1]\n",
      "Set of node zone:  {1: 1}\n",
      "The origin node is:  1\n",
      "Set of node:  [1, 2]\n",
      "Set of node zone:  {1: 1, 2: 2}\n",
      "The origin node is:  1\n",
      "Set of node:  [1, 2, 3]\n",
      "Set of node zone:  {1: 1, 2: 2, 3: 3}\n",
      "The origin node is:  1\n",
      "Set of node:  [1, 2, 3, 4]\n",
      "Set of node zone:  {1: 1, 2: 2, 3: 3, 4: 4}\n",
      "The origin node is:  1\n",
      "Set of node:  [1, 2, 3, 4, 5]\n",
      "Set of node zone:  {1: 1, 2: 2, 3: 3, 4: 4, 5: 5}\n",
      "The origin node is:  1\n",
      "Set of node:  [1, 2, 3, 4, 5, 6]\n",
      "Set of node zone:  {1: 1, 2: 2, 3: 3, 4: 4, 5: 5, 6: 6}\n",
      "The origin node is:  1\n"
     ]
    }
   ],
   "source": [
    "\"\"\"define global variables\"\"\"\n",
    "g_node_list=[] #set of node\n",
    "g_node_zone={} #set of node type\n",
    "g_link_list=[] #set of arc\n",
    "g_shortest_path=[]  #set of shortest path\n",
    "g_origin=None       #source node of network\n",
    "g_number_of_nodes=0 #node number\n",
    "node_predecessor =[] #set of predecessor node\n",
    "node_label_cost  =[]  #set of distance label\n",
    "Max_label_cost   =99999#initial distance label\n",
    "\n",
    "\"\"\"import network data file and initialize corresponding variables\"\"\"\n",
    "#read data of nodes\n",
    "df_node=pd.read_csv('node.csv')\n",
    "df_node=df_node.iloc[:,:].values\n",
    "for i in range(len(df_node)):\n",
    "    g_node_list.append(df_node[i,0])\n",
    "    g_node_zone[df_node[i,0]]=df_node[i,-1]\n",
    "    g_number_of_nodes+=1\n",
    "    \n",
    "    print (\"Set of node: \", g_node_list)\n",
    "    print (\"Set of node zone: \", g_node_zone)\n",
    "    \n",
    "    if df_node[i,3]==1:\n",
    "        g_origin=df_node[i,0]\n",
    "        \n",
    "    print(\"The origin node is: \", g_origin)"
   ]
  },
  {
   "cell_type": "code",
   "execution_count": 7,
   "metadata": {},
   "outputs": [
    {
     "name": "stdout",
     "output_type": "stream",
     "text": [
      "\n",
      "Updating the distance matrix using link.csv\n",
      "[[9.9999e+04 6.0000e+00 4.0000e+00 9.9999e+04 9.9999e+04 9.9999e+04]\n",
      " [9.9999e+04 9.9999e+04 2.0000e+00 2.0000e+00 9.9999e+04 9.9999e+04]\n",
      " [9.9999e+04 9.9999e+04 9.9999e+04 1.0000e+00 2.0000e+00 9.9999e+04]\n",
      " [9.9999e+04 9.9999e+04 9.9999e+04 9.9999e+04 9.9999e+04 7.0000e+00]\n",
      " [9.9999e+04 9.9999e+04 9.9999e+04 1.0000e+00 9.9999e+04 3.0000e+00]\n",
      " [9.9999e+04 9.9999e+04 9.9999e+04 9.9999e+04 9.9999e+04 9.9999e+04]]\n"
     ]
    }
   ],
   "source": [
    "Distance=np.ones((g_number_of_nodes, g_number_of_nodes))*Max_label_cost #distance matrix\n",
    "node_predecessor=[-1]*g_number_of_nodes\n",
    "node_label_cost=[Max_label_cost]*g_number_of_nodes\n",
    "node_predecessor[g_origin-1]=0\n",
    "node_label_cost[g_origin-1]=0\n",
    "#read data of arcs\n",
    "df_link=pd.read_csv('link.csv')\n",
    "df_link=df_link.iloc[:,:].values\n",
    "for i in range(len(df_link)):\n",
    "    g_link_list.append((df_link[i, 1],df_link[i, 2]))\n",
    "    Distance[df_link[i, 1]-1, df_link[i, 2]-1]=df_link[i, 3]\n",
    "print()\n",
    "print(\"Updating the distance matrix using link.csv\")\n",
    "print (Distance)"
   ]
  },
  {
   "cell_type": "code",
   "execution_count": 8,
   "metadata": {},
   "outputs": [
    {
     "name": "stdout",
     "output_type": "stream",
     "text": [
      "iteration= 0\n",
      "node_label_cost= [0, 6.0, 99999, 99999, 99999, 99999]\n",
      "node_predecessor= [0, 1, -1, -1, -1, -1]\n",
      "iteration= 1\n",
      "node_label_cost= [0, 6.0, 4.0, 99999, 99999, 99999]\n",
      "node_predecessor= [0, 1, 1, -1, -1, -1]\n",
      "iteration= 2\n",
      "node_label_cost= [0, 6.0, 4.0, 8.0, 99999, 99999]\n",
      "node_predecessor= [0, 1, 1, 2, -1, -1]\n",
      "iteration= 3\n",
      "node_label_cost= [0, 6.0, 4.0, 5.0, 99999, 99999]\n",
      "node_predecessor= [0, 1, 1, 3, -1, -1]\n",
      "iteration= 4\n",
      "node_label_cost= [0, 6.0, 4.0, 5.0, 6.0, 99999]\n",
      "node_predecessor= [0, 1, 1, 3, 3, -1]\n",
      "iteration= 5\n",
      "node_label_cost= [0, 6.0, 4.0, 5.0, 6.0, 12.0]\n",
      "node_predecessor= [0, 1, 1, 3, 3, 4]\n",
      "iteration= 6\n",
      "node_label_cost= [0, 6.0, 4.0, 5.0, 6.0, 9.0]\n",
      "node_predecessor= [0, 1, 1, 3, 3, 5]\n"
     ]
    }
   ],
   "source": [
    "\"\"\"finding optimal solution: scan arc and check its optimality condition\"\"\"\n",
    "iteration = 0 \n",
    "while True:\n",
    "    v=0 #number of arcs violating the optimality conditons\n",
    "    for head,tail in g_link_list:\n",
    "        if  node_label_cost[tail-1]>node_label_cost[head-1]+Distance[head-1,tail-1]:\n",
    "            node_label_cost[tail-1]=node_label_cost[head-1]+Distance[head-1,tail-1]\n",
    "            node_predecessor[tail-1]=head\n",
    "            print (\"iteration=\", iteration)\n",
    "            print (\"node_label_cost=\", node_label_cost)\n",
    "            print (\"node_predecessor=\", node_predecessor)\n",
    "            iteration = iteration +1\n",
    "            v=v+1\n",
    "    if v==0:\n",
    "        break"
   ]
  },
  {
   "cell_type": "code",
   "execution_count": 9,
   "metadata": {},
   "outputs": [
    {
     "name": "stdout",
     "output_type": "stream",
     "text": [
      "from 1 to 2 the path is 1;2，length is 6.0\n",
      "from 1 to 3 the path is 1;3，length is 4.0\n",
      "from 1 to 4 the path is 1;3;4，length is 5.0\n",
      "from 1 to 5 the path is 1;3;5，length is 6.0\n",
      "from 1 to 6 the path is 1;3;5;6，length is 9.0\n"
     ]
    }
   ],
   "source": [
    "\"\"\"generate shortest paths according to the predecessor node\"\"\"\n",
    "agent_id=1\n",
    "o_zone_id=g_node_zone[g_origin]\n",
    "for destination in g_node_list:\n",
    "    if g_origin!=destination:\n",
    "        d_zone_id=g_node_zone[destination]\n",
    "        if node_label_cost[destination-1]==Max_label_cost:\n",
    "            path=\" \"\n",
    "            g_shortest_path.append([agent_id,o_zone_id,d_zone_id,path,node_label_cost[destination-1]])\n",
    "        else:\n",
    "            to_node=copy.copy(destination)\n",
    "            path=\"%s\"%to_node\n",
    "            while node_predecessor[to_node-1]!=g_origin:\n",
    "                path=\"%s;\"%node_predecessor[to_node-1]+path\n",
    "                g=node_predecessor[to_node-1]\n",
    "                to_node=g\n",
    "            path=\"%s;\"%g_origin+path\n",
    "            g_shortest_path.append([agent_id,o_zone_id,d_zone_id, path, node_label_cost[destination - 1]])\n",
    "            print('from {} to {} the path is {}，length is {}'\n",
    "                      .format(g_origin,destination,path,node_label_cost[destination-1]))\n",
    "        agent_id+=1"
   ]
  },
  {
   "cell_type": "code",
   "execution_count": 10,
   "metadata": {},
   "outputs": [],
   "source": [
    "\"\"\"output result into csv file\"\"\"\n",
    "#transform data into DataFrame\n",
    "g_shortest_path=np.array(g_shortest_path)\n",
    "col=['agent_id','o_zone_id','d_zone_id','node_sequence','distance']\n",
    "file_data = pd.DataFrame(g_shortest_path, index=range(len(g_shortest_path)),columns=col)\n",
    "file_data.to_csv('agent.csv',index=False)"
   ]
  },
  {
   "cell_type": "code",
   "execution_count": null,
   "metadata": {},
   "outputs": [],
   "source": []
  }
 ],
 "metadata": {
  "kernelspec": {
   "display_name": "Python 3",
   "language": "python",
   "name": "python3"
  },
  "language_info": {
   "codemirror_mode": {
    "name": "ipython",
    "version": 3
   },
   "file_extension": ".py",
   "mimetype": "text/x-python",
   "name": "python",
   "nbconvert_exporter": "python",
   "pygments_lexer": "ipython3",
   "version": "3.7.6"
  }
 },
 "nbformat": 4,
 "nbformat_minor": 2
}
